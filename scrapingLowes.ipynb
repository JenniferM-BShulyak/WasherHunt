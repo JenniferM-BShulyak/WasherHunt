{
 "cells": [
  {
   "cell_type": "code",
   "execution_count": 56,
   "metadata": {},
   "outputs": [],
   "source": [
    "from bs4 import BeautifulSoup\n",
    "from splinter import Browser\n",
    "import html5lib\n",
    "import lxml"
   ]
  },
  {
   "cell_type": "code",
   "execution_count": 57,
   "metadata": {},
   "outputs": [],
   "source": [
    "import regex as re"
   ]
  },
  {
   "cell_type": "markdown",
   "metadata": {},
   "source": [
    "# Scrape"
   ]
  },
  {
   "cell_type": "code",
   "execution_count": 58,
   "metadata": {},
   "outputs": [],
   "source": [
    "# Set up Splinter\n",
    "browser = Browser('chrome')"
   ]
  },
  {
   "cell_type": "code",
   "execution_count": 59,
   "metadata": {},
   "outputs": [],
   "source": [
    "# Visit the Quotes to Scrape site\n",
    "url = 'https://www.lowes.com/pl/Top-load-washers-Washing-machines-Washers-dryers-Appliances/4294857976'\n",
    "browser.visit(url)"
   ]
  },
  {
   "cell_type": "markdown",
   "metadata": {},
   "source": [
    "# Parse"
   ]
  },
  {
   "cell_type": "code",
   "execution_count": 60,
   "metadata": {},
   "outputs": [],
   "source": [
    "# Parse the HTML\n",
    "html = browser.html\n",
    "html_soup = BeautifulSoup(html, 'html.parser')"
   ]
  },
  {
   "cell_type": "code",
   "execution_count": 61,
   "metadata": {},
   "outputs": [],
   "source": [
    "# Scrape all the washer information on a single page\n",
    "washer_info = html_soup.find_all(class_ = 'sc-o9wle2-4')"
   ]
  },
  {
   "cell_type": "code",
   "execution_count": 101,
   "metadata": {},
   "outputs": [
    {
     "ename": "AttributeError",
     "evalue": "'NoneType' object has no attribute 'find'",
     "output_type": "error",
     "traceback": [
      "\u001b[0;31m---------------------------------------------------------------------------\u001b[0m",
      "\u001b[0;31mAttributeError\u001b[0m                            Traceback (most recent call last)",
      "\u001b[1;32m/Users/jennifershulyak/Desktop/Data_Bootcamp_2022/WasherHunt/scrapingLowes.ipynb Cell 9\u001b[0m in \u001b[0;36m<cell line: 8>\u001b[0;34m()\u001b[0m\n\u001b[1;32m     <a href='vscode-notebook-cell:/Users/jennifershulyak/Desktop/Data_Bootcamp_2022/WasherHunt/scrapingLowes.ipynb#X11sZmlsZQ%3D%3D?line=22'>23</a>\u001b[0m rating_num\u001b[39m.\u001b[39mappend(rating_info\u001b[39m.\u001b[39mfind(class_\u001b[39m=\u001b[39m\u001b[39m\"\u001b[39m\u001b[39mrating-count\u001b[39m\u001b[39m\"\u001b[39m)\u001b[39m.\u001b[39mtext)\n\u001b[1;32m     <a href='vscode-notebook-cell:/Users/jennifershulyak/Desktop/Data_Bootcamp_2022/WasherHunt/scrapingLowes.ipynb#X11sZmlsZQ%3D%3D?line=24'>25</a>\u001b[0m specs_info_2 \u001b[39m=\u001b[39m w\u001b[39m.\u001b[39mfind(class_\u001b[39m=\u001b[39m\u001b[39m\"\u001b[39m\u001b[39mproduct-specs-style\u001b[39m\u001b[39m\"\u001b[39m, order_\u001b[39m=\u001b[39m\u001b[39m\"\u001b[39m\u001b[39m2\u001b[39m\u001b[39m\"\u001b[39m)\n\u001b[0;32m---> <a href='vscode-notebook-cell:/Users/jennifershulyak/Desktop/Data_Bootcamp_2022/WasherHunt/scrapingLowes.ipynb#X11sZmlsZQ%3D%3D?line=25'>26</a>\u001b[0m ag \u001b[39m=\u001b[39m specs_info_2\u001b[39m.\u001b[39;49mfind(class_\u001b[39m=\u001b[39m\u001b[39m\"\u001b[39m\u001b[39mproduct-specs-value\u001b[39m\u001b[39m\"\u001b[39m)\u001b[39m.\u001b[39mtext\n\u001b[1;32m     <a href='vscode-notebook-cell:/Users/jennifershulyak/Desktop/Data_Bootcamp_2022/WasherHunt/scrapingLowes.ipynb#X11sZmlsZQ%3D%3D?line=26'>27</a>\u001b[0m agitator\u001b[39m.\u001b[39mappend(ag)\n",
      "\u001b[0;31mAttributeError\u001b[0m: 'NoneType' object has no attribute 'find'"
     ]
    }
   ],
   "source": [
    "brands=[]\n",
    "size = []\n",
    "color = []\n",
    "model=[]\n",
    "rating = []\n",
    "rating_num = []\n",
    "agitator= []\n",
    "for w in washer_info:\n",
    "    brand_div = w.find(class_=\"BrandNameStyle-sc-4v6c0e-3 ifIzUE expand-product-specs\").text\n",
    "    brands.append(brand_div.replace('\\xa0', ''))\n",
    "\n",
    "    description_div = w.find(class_=\"description-spn\").text\n",
    "    size_info = re.findall(r\"\\d+\\.\\d-cu ft|\\d+-cu ft\", description_div)\n",
    "    color_info = re.findall(r\"\\((.*?)\\)\",description_div)\n",
    "    color.append(color_info[0])\n",
    "    size.append(size_info[0])\n",
    "\n",
    "    model_info = w.find(class_=\"tooltip-custom\").text.split(\"#\")\n",
    "    model.append(model_info[1])\n",
    "\n",
    "    rating_info = w.find(class_=\"RatingWrapper-sc-1djcq5w-0 cIAzCR rating size--medium read-only\")\n",
    "    rating.append(rating_info['aria-label'].split(\" \")[0])\n",
    "    rating_num.append(rating_info.find(class_=\"rating-count\").text)\n",
    "\n",
    "    \n",
    "    \n"
   ]
  },
  {
   "cell_type": "code",
   "execution_count": 119,
   "metadata": {},
   "outputs": [
    {
     "name": "stdout",
     "output_type": "stream",
     "text": [
      "Agitator\n",
      "Agitator\n",
      "Agitator\n",
      "Agitator\n",
      "Impeller\n",
      "Agitator\n",
      "Impeller\n",
      "Impeller\n",
      "Both\n",
      "Impeller\n",
      "Impeller\n",
      "Agitator\n",
      "Agitator\n",
      "Agitator\n",
      "Agitator\n",
      "Agitator\n",
      "Impeller\n",
      "Agitator\n",
      "Agitator\n",
      "Both\n",
      "Agitator\n",
      "Impeller\n",
      "Impeller\n",
      "Impeller\n"
     ]
    }
   ],
   "source": [
    "for w in washer_info:\n",
    "    specs_info_2 = w.find('div', {'class': 'product-specs-styles', 'order': '2'})\n",
    "    ag = specs_info_2.find(class_=\"product-specs-value\").text\n",
    "    #ag = specs_info_2.find(class_=\"product-specs-value\").text\n",
    "    print(ag)"
   ]
  },
  {
   "cell_type": "code",
   "execution_count": 97,
   "metadata": {},
   "outputs": [
    {
     "data": {
      "text/plain": [
       "[None,\n",
       " None,\n",
       " None,\n",
       " None,\n",
       " None,\n",
       " None,\n",
       " None,\n",
       " None,\n",
       " None,\n",
       " None,\n",
       " None,\n",
       " None,\n",
       " None,\n",
       " None,\n",
       " None,\n",
       " None,\n",
       " None,\n",
       " None,\n",
       " None,\n",
       " None,\n",
       " None,\n",
       " None,\n",
       " None,\n",
       " None]"
      ]
     },
     "execution_count": 97,
     "metadata": {},
     "output_type": "execute_result"
    }
   ],
   "source": [
    "agitator"
   ]
  },
  {
   "cell_type": "code",
   "execution_count": 82,
   "metadata": {},
   "outputs": [
    {
     "data": {
      "text/plain": [
       "['WTW4816FW',\n",
       " 'GTW465ASNWW',\n",
       " 'MVW4505MW',\n",
       " 'GTW335ASNWW',\n",
       " 'MVW5430MW',\n",
       " 'NTW4516FW',\n",
       " 'WT7150CW',\n",
       " 'WA45T3200AW',\n",
       " 'WTW5057LW',\n",
       " 'WTW5010LW',\n",
       " 'PTW600BSRWS',\n",
       " 'WA44A3405AP',\n",
       " 'MVW6230HW',\n",
       " 'WT6105CW',\n",
       " 'NTW4519JW',\n",
       " 'MVW7230HW',\n",
       " 'MVW7232HW',\n",
       " 'WT7155CW',\n",
       " 'MVW6500MBK',\n",
       " 'WTW8127LC',\n",
       " 'WTW5105HW',\n",
       " 'WT7400CW',\n",
       " 'WA55A7300AE/US',\n",
       " 'WA50R5200AW']"
      ]
     },
     "execution_count": 82,
     "metadata": {},
     "output_type": "execute_result"
    }
   ],
   "source": [
    "model<span class=\"RatingWrapper-sc-1djcq5w-0 cIAzCR rating size--medium read-only\" role=\"img\" aria-label=\"4.5 Stars\" disabled=\"\"><div class=\"rating-item decimal\"><div class=\"rating-item\" style=\"width: 0%; overflow: hidden; position: absolute;\"><div class=\"rating-icon filled\"><svg class=\"styles__StyledSVG-sc-1houmlx-0 hGNiQH icon icon-rating-filled\" viewBox=\"0 0 24 24\" color=\"text_primary\" aria-hidden=\"true\" role=\"presentation\"><path fill-rule=\"evenodd\" d=\"M24 9.38l-8.64-.697L12 1 8.64 8.683 0 9.38l6.6 5.47L4.68 23l7.44-4.307L19.56 23l-1.92-8.148L24 9.38z\" clip-rule=\"evenodd\"></path></svg></div></div><div class=\"rating-item\"><div class=\"rating-icon filled\"><svg class=\"styles__StyledSVG-sc-1houmlx-0 hGNiQH icon icon-rating-filled\" viewBox=\"0 0 24 24\" color=\"text_primary\" aria-hidden=\"true\" role=\"presentation\"><path fill-rule=\"evenodd\" d=\"M24 9.38l-8.64-.697L12 1 8.64 8.683 0 9.38l6.6 5.47L4.68 23l7.44-4.307L19.56 23l-1.92-8.148L24 9.38z\" clip-rule=\"evenodd\"></path></svg></div></div></div><div class=\"rating-item decimal\"><div class=\"rating-item\" style=\"width: 0%; overflow: hidden; position: absolute;\"><div class=\"rating-icon filled\"><svg class=\"styles__StyledSVG-sc-1houmlx-0 hGNiQH icon icon-rating-filled\" viewBox=\"0 0 24 24\" color=\"text_primary\" aria-hidden=\"true\" role=\"presentation\"><path fill-rule=\"evenodd\" d=\"M24 9.38l-8.64-.697L12 1 8.64 8.683 0 9.38l6.6 5.47L4.68 23l7.44-4.307L19.56 23l-1.92-8.148L24 9.38z\" clip-rule=\"evenodd\"></path></svg></div></div><div class=\"rating-item\"><div class=\"rating-icon filled\"><svg class=\"styles__StyledSVG-sc-1houmlx-0 hGNiQH icon icon-rating-filled\" viewBox=\"0 0 24 24\" color=\"text_primary\" aria-hidden=\"true\" role=\"presentation\"><path fill-rule=\"evenodd\" d=\"M24 9.38l-8.64-.697L12 1 8.64 8.683 0 9.38l6.6 5.47L4.68 23l7.44-4.307L19.56 23l-1.92-8.148L24 9.38z\" clip-rule=\"evenodd\"></path></svg></div></div></div><div class=\"rating-item decimal\"><div class=\"rating-item\" style=\"width: 0%; overflow: hidden; position: absolute;\"><div class=\"rating-icon filled\"><svg class=\"styles__StyledSVG-sc-1houmlx-0 hGNiQH icon icon-rating-filled\" viewBox=\"0 0 24 24\" color=\"text_primary\" aria-hidden=\"true\" role=\"presentation\"><path fill-rule=\"evenodd\" d=\"M24 9.38l-8.64-.697L12 1 8.64 8.683 0 9.38l6.6 5.47L4.68 23l7.44-4.307L19.56 23l-1.92-8.148L24 9.38z\" clip-rule=\"evenodd\"></path></svg></div></div><div class=\"rating-item\"><div class=\"rating-icon filled\"><svg class=\"styles__StyledSVG-sc-1houmlx-0 hGNiQH icon icon-rating-filled\" viewBox=\"0 0 24 24\" color=\"text_primary\" aria-hidden=\"true\" role=\"presentation\"><path fill-rule=\"evenodd\" d=\"M24 9.38l-8.64-.697L12 1 8.64 8.683 0 9.38l6.6 5.47L4.68 23l7.44-4.307L19.56 23l-1.92-8.148L24 9.38z\" clip-rule=\"evenodd\"></path></svg></div></div></div><div class=\"rating-item decimal\"><div class=\"rating-item\" style=\"width: 0%; overflow: hidden; position: absolute;\"><div class=\"rating-icon filled\"><svg class=\"styles__StyledSVG-sc-1houmlx-0 hGNiQH icon icon-rating-filled\" viewBox=\"0 0 24 24\" color=\"text_primary\" aria-hidden=\"true\" role=\"presentation\"><path fill-rule=\"evenodd\" d=\"M24 9.38l-8.64-.697L12 1 8.64 8.683 0 9.38l6.6 5.47L4.68 23l7.44-4.307L19.56 23l-1.92-8.148L24 9.38z\" clip-rule=\"evenodd\"></path></svg></div></div><div class=\"rating-item\"><div class=\"rating-icon filled\"><svg class=\"styles__StyledSVG-sc-1houmlx-0 hGNiQH icon icon-rating-filled\" viewBox=\"0 0 24 24\" color=\"text_primary\" aria-hidden=\"true\" role=\"presentation\"><path fill-rule=\"evenodd\" d=\"M24 9.38l-8.64-.697L12 1 8.64 8.683 0 9.38l6.6 5.47L4.68 23l7.44-4.307L19.56 23l-1.92-8.148L24 9.38z\" clip-rule=\"evenodd\"></path></svg></div></div></div><div class=\"rating-item decimal\"><div class=\"rating-item\" style=\"width: 50%; overflow: hidden; position: absolute;\"><div class=\"rating-icon filled\"><svg class=\"styles__StyledSVG-sc-1houmlx-0 hGNiQH icon icon-rating-filled\" viewBox=\"0 0 24 24\" color=\"text_primary\" aria-hidden=\"true\" role=\"presentation\"><path fill-rule=\"evenodd\" d=\"M24 9.38l-8.64-.697L12 1 8.64 8.683 0 9.38l6.6 5.47L4.68 23l7.44-4.307L19.56 23l-1.92-8.148L24 9.38z\" clip-rule=\"evenodd\"></path></svg></div></div><div class=\"rating-item\"><div class=\"rating-icon empty\"><svg class=\"styles__StyledSVG-sc-1houmlx-0 hGNiQH icon icon-rating-outline\" viewBox=\"0 0 24 24\" color=\"text_primary\" aria-hidden=\"true\" role=\"presentation\"><path fill-rule=\"evenodd\" d=\"M15.372 8.665L24 9.383l-6.54 5.477L19.416 23 12 18.681 4.584 23l1.968-8.14L0 9.383l8.628-.706L12 1l3.372 7.665zm-7.884 10.48L12 16.514l4.524 2.64-1.2-4.955 3.984-3.335-5.256-.44L12 5.747l-2.04 4.667-5.256.44 3.984 3.334-1.2 4.956z\" clip-rule=\"evenodd\"></path></svg></div></div></div><span class=\"rating-count\">15797</span></span>"
   ]
  },
  {
   "cell_type": "code",
   "execution_count": 55,
   "metadata": {},
   "outputs": [],
   "source": [
    "browser.quit()"
   ]
  },
  {
   "cell_type": "code",
   "execution_count": null,
   "metadata": {},
   "outputs": [],
   "source": []
  }
 ],
 "metadata": {
  "kernelspec": {
   "display_name": "Python 3.9.12 ('base')",
   "language": "python",
   "name": "python3"
  },
  "language_info": {
   "codemirror_mode": {
    "name": "ipython",
    "version": 3
   },
   "file_extension": ".py",
   "mimetype": "text/x-python",
   "name": "python",
   "nbconvert_exporter": "python",
   "pygments_lexer": "ipython3",
   "version": "3.9.12"
  },
  "orig_nbformat": 4,
  "vscode": {
   "interpreter": {
    "hash": "8ca3c2b93fec3a68989a8a35ad4ad37f554c7436255229aa8dbd97e50d16e03f"
   }
  }
 },
 "nbformat": 4,
 "nbformat_minor": 2
}
